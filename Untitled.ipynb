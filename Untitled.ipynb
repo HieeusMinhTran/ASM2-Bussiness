{
 "cells": [
  {
   "cell_type": "code",
   "execution_count": 1,
   "id": "581dafa7-5f69-4970-96cb-2ec182200b74",
   "metadata": {},
   "outputs": [],
   "source": [
    "import pandas as pd\n",
    "import numpy as np\n",
    "import seaborn as sns\n",
    "import matplotlib.pyplot as plt\n",
    "\n",
    "\n"
   ]
  },
  {
   "cell_type": "code",
   "execution_count": 2,
   "id": "f45e1ca4-38b1-49f7-aeed-fb19ba99aea1",
   "metadata": {},
   "outputs": [
    {
     "data": {
      "text/html": [
       "<div>\n",
       "<style scoped>\n",
       "    .dataframe tbody tr th:only-of-type {\n",
       "        vertical-align: middle;\n",
       "    }\n",
       "\n",
       "    .dataframe tbody tr th {\n",
       "        vertical-align: top;\n",
       "    }\n",
       "\n",
       "    .dataframe thead th {\n",
       "        text-align: right;\n",
       "    }\n",
       "</style>\n",
       "<table border=\"1\" class=\"dataframe\">\n",
       "  <thead>\n",
       "    <tr style=\"text-align: right;\">\n",
       "      <th></th>\n",
       "      <th>CustomerID</th>\n",
       "      <th>CustomerName</th>\n",
       "      <th>Country</th>\n",
       "      <th>Email</th>\n",
       "      <th>Phone</th>\n",
       "    </tr>\n",
       "  </thead>\n",
       "  <tbody>\n",
       "    <tr>\n",
       "      <th>0</th>\n",
       "      <td>1</td>\n",
       "      <td>John Doe</td>\n",
       "      <td>USA</td>\n",
       "      <td>johndoe@example.com</td>\n",
       "      <td>123-456-7890</td>\n",
       "    </tr>\n",
       "    <tr>\n",
       "      <th>1</th>\n",
       "      <td>2</td>\n",
       "      <td>Jane Smith</td>\n",
       "      <td>Canada</td>\n",
       "      <td>janesmith@example.com</td>\n",
       "      <td>456-789-0123</td>\n",
       "    </tr>\n",
       "    <tr>\n",
       "      <th>2</th>\n",
       "      <td>3</td>\n",
       "      <td>Michael Johnson</td>\n",
       "      <td>UK</td>\n",
       "      <td>michaeljohnson@example.com</td>\n",
       "      <td>789-012-3456</td>\n",
       "    </tr>\n",
       "    <tr>\n",
       "      <th>3</th>\n",
       "      <td>4</td>\n",
       "      <td>Emily Brown</td>\n",
       "      <td>USA</td>\n",
       "      <td>emilybrown@example.com</td>\n",
       "      <td>234-567-8901</td>\n",
       "    </tr>\n",
       "    <tr>\n",
       "      <th>4</th>\n",
       "      <td>5</td>\n",
       "      <td>David Wilson</td>\n",
       "      <td>Australia</td>\n",
       "      <td>davidwilson@example.com</td>\n",
       "      <td>567-890-1234</td>\n",
       "    </tr>\n",
       "    <tr>\n",
       "      <th>...</th>\n",
       "      <td>...</td>\n",
       "      <td>...</td>\n",
       "      <td>...</td>\n",
       "      <td>...</td>\n",
       "      <td>...</td>\n",
       "    </tr>\n",
       "    <tr>\n",
       "      <th>95</th>\n",
       "      <td>96</td>\n",
       "      <td>Matthew Rodriguez</td>\n",
       "      <td>India</td>\n",
       "      <td>matthewrodriguez@example.com</td>\n",
       "      <td>890-123-4567</td>\n",
       "    </tr>\n",
       "    <tr>\n",
       "      <th>96</th>\n",
       "      <td>97</td>\n",
       "      <td>Emily Walker</td>\n",
       "      <td>Russia</td>\n",
       "      <td>emilywalker@example.com</td>\n",
       "      <td>345-678-9012</td>\n",
       "    </tr>\n",
       "    <tr>\n",
       "      <th>97</th>\n",
       "      <td>98</td>\n",
       "      <td>David Lewis</td>\n",
       "      <td>Brazil</td>\n",
       "      <td>davidlewis@example.com</td>\n",
       "      <td>678-901-2345</td>\n",
       "    </tr>\n",
       "    <tr>\n",
       "      <th>98</th>\n",
       "      <td>99</td>\n",
       "      <td>Amanda Thompson</td>\n",
       "      <td>Argentina</td>\n",
       "      <td>amandathompson@example.com</td>\n",
       "      <td>901-234-5678</td>\n",
       "    </tr>\n",
       "    <tr>\n",
       "      <th>99</th>\n",
       "      <td>100</td>\n",
       "      <td>Michael Adams</td>\n",
       "      <td>Mexico</td>\n",
       "      <td>michaeladams@example.com</td>\n",
       "      <td>123-456-7890</td>\n",
       "    </tr>\n",
       "  </tbody>\n",
       "</table>\n",
       "<p>100 rows × 5 columns</p>\n",
       "</div>"
      ],
      "text/plain": [
       "    CustomerID       CustomerName    Country                         Email  \\\n",
       "0            1           John Doe        USA           johndoe@example.com   \n",
       "1            2         Jane Smith     Canada         janesmith@example.com   \n",
       "2            3    Michael Johnson         UK    michaeljohnson@example.com   \n",
       "3            4        Emily Brown        USA        emilybrown@example.com   \n",
       "4            5       David Wilson  Australia       davidwilson@example.com   \n",
       "..         ...                ...        ...                           ...   \n",
       "95          96  Matthew Rodriguez      India  matthewrodriguez@example.com   \n",
       "96          97       Emily Walker     Russia       emilywalker@example.com   \n",
       "97          98        David Lewis     Brazil        davidlewis@example.com   \n",
       "98          99    Amanda Thompson  Argentina    amandathompson@example.com   \n",
       "99         100      Michael Adams     Mexico      michaeladams@example.com   \n",
       "\n",
       "           Phone  \n",
       "0   123-456-7890  \n",
       "1   456-789-0123  \n",
       "2   789-012-3456  \n",
       "3   234-567-8901  \n",
       "4   567-890-1234  \n",
       "..           ...  \n",
       "95  890-123-4567  \n",
       "96  345-678-9012  \n",
       "97  678-901-2345  \n",
       "98  901-234-5678  \n",
       "99  123-456-7890  \n",
       "\n",
       "[100 rows x 5 columns]"
      ]
     },
     "execution_count": 2,
     "metadata": {},
     "output_type": "execute_result"
    }
   ],
   "source": [
    "df=pd.read_csv(\"Customer.csv\")\n",
    "df"
   ]
  },
  {
   "cell_type": "code",
   "execution_count": 3,
   "id": "95ad435b-df3f-472c-ab3a-bba0eef3401b",
   "metadata": {},
   "outputs": [
    {
     "data": {
      "text/plain": [
       "(100, 5)"
      ]
     },
     "execution_count": 3,
     "metadata": {},
     "output_type": "execute_result"
    }
   ],
   "source": [
    "df.shape"
   ]
  },
  {
   "cell_type": "code",
   "execution_count": 4,
   "id": "b5a5221b-0be3-4800-bc97-8df5fc173bec",
   "metadata": {},
   "outputs": [
    {
     "data": {
      "text/plain": [
       "<bound method DataFrame.info of     CustomerID       CustomerName    Country                         Email  \\\n",
       "0            1           John Doe        USA           johndoe@example.com   \n",
       "1            2         Jane Smith     Canada         janesmith@example.com   \n",
       "2            3    Michael Johnson         UK    michaeljohnson@example.com   \n",
       "3            4        Emily Brown        USA        emilybrown@example.com   \n",
       "4            5       David Wilson  Australia       davidwilson@example.com   \n",
       "..         ...                ...        ...                           ...   \n",
       "95          96  Matthew Rodriguez      India  matthewrodriguez@example.com   \n",
       "96          97       Emily Walker     Russia       emilywalker@example.com   \n",
       "97          98        David Lewis     Brazil        davidlewis@example.com   \n",
       "98          99    Amanda Thompson  Argentina    amandathompson@example.com   \n",
       "99         100      Michael Adams     Mexico      michaeladams@example.com   \n",
       "\n",
       "           Phone  \n",
       "0   123-456-7890  \n",
       "1   456-789-0123  \n",
       "2   789-012-3456  \n",
       "3   234-567-8901  \n",
       "4   567-890-1234  \n",
       "..           ...  \n",
       "95  890-123-4567  \n",
       "96  345-678-9012  \n",
       "97  678-901-2345  \n",
       "98  901-234-5678  \n",
       "99  123-456-7890  \n",
       "\n",
       "[100 rows x 5 columns]>"
      ]
     },
     "execution_count": 4,
     "metadata": {},
     "output_type": "execute_result"
    }
   ],
   "source": [
    "df.info"
   ]
  },
  {
   "cell_type": "code",
   "execution_count": null,
   "id": "c52695b6-d9dd-4cf7-b3ec-140667ffec27",
   "metadata": {},
   "outputs": [],
   "source": []
  },
  {
   "cell_type": "code",
   "execution_count": 5,
   "id": "1203b7fb-099d-4652-9e00-2f10239c96cc",
   "metadata": {},
   "outputs": [
    {
     "data": {
      "text/plain": [
       "CustomerID      0\n",
       "CustomerName    0\n",
       "Country         0\n",
       "Email           0\n",
       "Phone           0\n",
       "dtype: int64"
      ]
     },
     "execution_count": 5,
     "metadata": {},
     "output_type": "execute_result"
    }
   ],
   "source": [
    "df.isnull().sum()"
   ]
  },
  {
   "cell_type": "code",
   "execution_count": 6,
   "id": "0044e993-d017-45be-b27c-0111633df776",
   "metadata": {},
   "outputs": [
    {
     "data": {
      "text/plain": [
       "0"
      ]
     },
     "execution_count": 6,
     "metadata": {},
     "output_type": "execute_result"
    }
   ],
   "source": [
    "df.duplicated().sum()"
   ]
  },
  {
   "cell_type": "code",
   "execution_count": 7,
   "id": "e5ab9b31-240d-4aa9-8506-b912a77a1de5",
   "metadata": {},
   "outputs": [
    {
     "data": {
      "text/plain": [
       "<Axes: >"
      ]
     },
     "execution_count": 7,
     "metadata": {},
     "output_type": "execute_result"
    },
    {
     "data": {
      "image/png": "[encoded data removed]",
      "text/plain": [
       "<Figure size 640x480 with 2 Axes>"
      ]
     },
     "metadata": {},
     "output_type": "display_data"
    }
   ],
   "source": [
    "sns.heatmap(df.isnull(), yticklabels = False, annot = True)"
   ]
  },
  {
   "cell_type": "code",
   "execution_count": 8,
   "id": "97f43eee-64e8-4a38-9d7a-c5d9c1dec135",
   "metadata": {},
   "outputs": [
    {
     "name": "stdout",
     "output_type": "stream",
     "text": [
      "CustomerName\n",
      "Sarah Martinez        2\n",
      "John Doe              1\n",
      "Nicholas White        1\n",
      "Joseph Wilson         1\n",
      "Emily Allen           1\n",
      "                     ..\n",
      "Karen Cook            1\n",
      "Daniel Martinez       1\n",
      "Mary Hernandez        1\n",
      "Christopher Garcia    1\n",
      "Michael Adams         1\n",
      "Name: count, Length: 99, dtype: int64\n",
      "******************************\n",
      "Country\n",
      "USA          8\n",
      "Canada       7\n",
      "UK           7\n",
      "Australia    7\n",
      "France       7\n",
      "Italy        7\n",
      "Japan        7\n",
      "China        7\n",
      "India        7\n",
      "Russia       7\n",
      "Brazil       7\n",
      "Argentina    7\n",
      "Mexico       7\n",
      "Spain        4\n",
      "Germany      4\n",
      "Name: count, dtype: int64\n",
      "******************************\n",
      "Email\n",
      "sarahmartinez@example.com        2\n",
      "johndoe@example.com              1\n",
      "nicholaswhite@example.com        1\n",
      "josephwilson@example.com         1\n",
      "emilyallen@example.com           1\n",
      "                                ..\n",
      "karencook@example.com            1\n",
      "danielmartinez@example.com       1\n",
      "maryhernandez@example.com        1\n",
      "christophergarcia@example.com    1\n",
      "michaeladams@example.com         1\n",
      "Name: count, Length: 99, dtype: int64\n",
      "******************************\n",
      "Phone\n",
      "123-456-7890    12\n",
      "456-789-0123    11\n",
      "789-012-3456    11\n",
      "234-567-8901    11\n",
      "567-890-1234    11\n",
      "890-123-4567    11\n",
      "345-678-9012    11\n",
      "678-901-2345    11\n",
      "901-234-5678    11\n",
      "Name: count, dtype: int64\n",
      "******************************\n"
     ]
    }
   ],
   "source": [
    "for i in df.select_dtypes(include=\"object\").columns:\n",
    "    print(df[i].value_counts())\n",
    "    print(\"***\"*10)"
   ]
  },
  {
   "cell_type": "code",
   "execution_count": 9,
   "id": "29d2c152-359c-42dd-aeed-baee52f79e21",
   "metadata": {},
   "outputs": [
    {
     "data": {
      "text/html": [
       "<div>\n",
       "<style scoped>\n",
       "    .dataframe tbody tr th:only-of-type {\n",
       "        vertical-align: middle;\n",
       "    }\n",
       "\n",
       "    .dataframe tbody tr th {\n",
       "        vertical-align: top;\n",
       "    }\n",
       "\n",
       "    .dataframe thead th {\n",
       "        text-align: right;\n",
       "    }\n",
       "</style>\n",
       "<table border=\"1\" class=\"dataframe\">\n",
       "  <thead>\n",
       "    <tr style=\"text-align: right;\">\n",
       "      <th></th>\n",
       "      <th>CustomerID</th>\n",
       "    </tr>\n",
       "  </thead>\n",
       "  <tbody>\n",
       "    <tr>\n",
       "      <th>count</th>\n",
       "      <td>100.000000</td>\n",
       "    </tr>\n",
       "    <tr>\n",
       "      <th>mean</th>\n",
       "      <td>50.500000</td>\n",
       "    </tr>\n",
       "    <tr>\n",
       "      <th>std</th>\n",
       "      <td>29.011492</td>\n",
       "    </tr>\n",
       "    <tr>\n",
       "      <th>min</th>\n",
       "      <td>1.000000</td>\n",
       "    </tr>\n",
       "    <tr>\n",
       "      <th>25%</th>\n",
       "      <td>25.750000</td>\n",
       "    </tr>\n",
       "    <tr>\n",
       "      <th>50%</th>\n",
       "      <td>50.500000</td>\n",
       "    </tr>\n",
       "    <tr>\n",
       "      <th>75%</th>\n",
       "      <td>75.250000</td>\n",
       "    </tr>\n",
       "    <tr>\n",
       "      <th>max</th>\n",
       "      <td>100.000000</td>\n",
       "    </tr>\n",
       "  </tbody>\n",
       "</table>\n",
       "</div>"
      ],
      "text/plain": [
       "       CustomerID\n",
       "count  100.000000\n",
       "mean    50.500000\n",
       "std     29.011492\n",
       "min      1.000000\n",
       "25%     25.750000\n",
       "50%     50.500000\n",
       "75%     75.250000\n",
       "max    100.000000"
      ]
     },
     "execution_count": 9,
     "metadata": {},
     "output_type": "execute_result"
    }
   ],
   "source": [
    "df.describe()"
   ]
  },
  {
   "cell_type": "code",
   "execution_count": 10,
   "id": "d5a6ecc0-75ba-4d04-a91a-2e34b38d941a",
   "metadata": {},
   "outputs": [
    {
     "data": {
      "image/png": "[encoded data removed]",
      "text/plain": [
       "<Figure size 640x480 with 1 Axes>"
      ]
     },
     "metadata": {},
     "output_type": "display_data"
    }
   ],
   "source": [
    "import warnings\n",
    "warnings.filterwarnings(\"ignore\")\n",
    "for i in df.select_dtypes(include=\"number\").columns:\n",
    "    sns.histplot(data=df,x=i)\n",
    "    plt.show()"
   ]
  }
 ],
 "metadata": {
  "kernelspec": {
   "display_name": "Python 3 (ipykernel)",
   "language": "python",
   "name": "python3"
  },
  "language_info": {
   "codemirror_mode": {
    "name": "ipython",
    "version": 3
   },
   "file_extension": ".py",
   "mimetype": "text/x-python",
   "name": "python",
   "nbconvert_exporter": "python",
   "pygments_lexer": "ipython3",
   "version": "3.11.7"
  }
 },
 "nbformat": 4,
 "nbformat_minor": 5
}
